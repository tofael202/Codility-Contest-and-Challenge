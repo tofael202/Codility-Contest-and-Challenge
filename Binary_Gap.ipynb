{
  "nbformat": 4,
  "nbformat_minor": 0,
  "metadata": {
    "colab": {
      "name": "Binary Gap.ipynb",
      "provenance": [],
      "authorship_tag": "ABX9TyMk2Oj2tCKn2WynRVoGy7HG",
      "include_colab_link": true
    },
    "kernelspec": {
      "name": "python3",
      "display_name": "Python 3"
    },
    "language_info": {
      "name": "python"
    }
  },
  "cells": [
    {
      "cell_type": "markdown",
      "metadata": {
        "id": "view-in-github",
        "colab_type": "text"
      },
      "source": [
        "<a href=\"https://colab.research.google.com/github/tofael202/Codility-Contest-and-Challenge/blob/main/Binary_Gap.ipynb\" target=\"_parent\"><img src=\"https://colab.research.google.com/assets/colab-badge.svg\" alt=\"Open In Colab\"/></a>"
      ]
    },
    {
      "cell_type": "code",
      "metadata": {
        "id": "IJkVl8NE4Qon"
      },
      "source": [
        "// you can use includes, for example:\n",
        "// #include <algorithm>\n",
        "\n",
        "// you can write to stdout for debugging purposes, e.g.\n",
        "// cout << \"this is a debug message\" << endl;\n",
        "\n",
        "int solution(int N) {\n",
        "    // write your code in C++14 (g++ 6.2.0)\n",
        "    int bin_r[32];\n",
        "    int i=0,len=0;\n",
        "    while(N>0){\n",
        "        int rem=N%2;\n",
        "        N=N/2;\n",
        "        bin_r[i]=rem;\n",
        "        i++;\n",
        "        len++;\n",
        "    }\n",
        "\n",
        "    int bin[len];\n",
        "    int m=sizeof(bin)/sizeof(bin[0]);\n",
        "    len=m;\n",
        "    int k=0;\n",
        "    for(int j=len-1;j>=0;j--){\n",
        "        bin[k]=bin_r[j];\n",
        "        cout<<bin_r[j];\n",
        "        k++;\n",
        "    }\n",
        "    \n",
        "    int max=0,flag=0, count;\n",
        "    for (int i=0;i<len;i++){\n",
        "        if(bin[i]==1){\n",
        "             count=0;\n",
        "            int q=i+1; \n",
        "            for(int p=q;p<len;p++){\n",
        "                if(bin[p]==1){\n",
        "                    flag=1;\n",
        "                    break;\n",
        "                }\n",
        "                else{\n",
        "                    count++;\n",
        "                    flag=0;\n",
        "                }\n",
        "            }\n",
        "        }\n",
        "        //cout<<\"count \"<<count<<\" \";\n",
        "        if(flag==0){\n",
        "            count=0;\n",
        "\n",
        "        }\n",
        "        else{\n",
        "            if(count>max){\n",
        "                max=count;\n",
        "            }\n",
        "        }\n",
        "\n",
        "        \n",
        "\n",
        "    }\n",
        "    return max;\n",
        "}\n"
      ],
      "execution_count": null,
      "outputs": []
    }
  ]
}