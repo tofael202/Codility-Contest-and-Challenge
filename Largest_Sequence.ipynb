{
  "nbformat": 4,
  "nbformat_minor": 0,
  "metadata": {
    "colab": {
      "name": "Largest Sequence.ipynb",
      "provenance": [],
      "authorship_tag": "ABX9TyPmp0K13Hcs6JizUzGE2Uty",
      "include_colab_link": true
    },
    "kernelspec": {
      "name": "python3",
      "display_name": "Python 3"
    },
    "language_info": {
      "name": "python"
    }
  },
  "cells": [
    {
      "cell_type": "markdown",
      "metadata": {
        "id": "view-in-github",
        "colab_type": "text"
      },
      "source": [
        "<a href=\"https://colab.research.google.com/github/tofael202/Codility-Contest-and-Challenge/blob/main/Largest_Sequence.ipynb\" target=\"_parent\"><img src=\"https://colab.research.google.com/assets/colab-badge.svg\" alt=\"Open In Colab\"/></a>"
      ]
    },
    {
      "cell_type": "code",
      "metadata": {
        "colab": {
          "base_uri": "https://localhost:8080/"
        },
        "id": "dPNUhwSww-0i",
        "outputId": "b967f9fe-dbb7-48dd-c844-320a925d1199"
      },
      "source": [
        "S=\"abbbabb\"\n",
        "p=''\n",
        "a=[]\n",
        "a=list(S)\n",
        "i=0\n",
        "flag=1\n",
        "leng=len(a)-2\n",
        "while( i<leng):\n",
        "    if(a[i]=='a' and a[i+1]=='b' and a[i+2]=='b'):\n",
        "       a[i]='b'\n",
        "       a[i+1]='a'\n",
        "       a[i+2]='a'\n",
        "       flag=0\n",
        "    else:\n",
        "      flag=1 \n",
        "    i=i+1      \n",
        "    if(flag==0 and i ==leng ):\n",
        "      i=0\n",
        "    \n",
        "    #print(i)\n",
        "\n",
        "\n",
        "print(a)        "
      ],
      "execution_count": 34,
      "outputs": [
        {
          "output_type": "stream",
          "name": "stdout",
          "text": [
            "['b', 'a', 'b', 'a', 'a', 'a', 'a']\n"
          ]
        }
      ]
    }
  ]
}