{
  "nbformat": 4,
  "nbformat_minor": 0,
  "metadata": {
    "colab": {
      "name": "CyclicRotation.ipynb",
      "provenance": [],
      "authorship_tag": "ABX9TyPdAKVt+It9mydb+POTBqSt",
      "include_colab_link": true
    },
    "kernelspec": {
      "name": "python3",
      "display_name": "Python 3"
    },
    "language_info": {
      "name": "python"
    }
  },
  "cells": [
    {
      "cell_type": "markdown",
      "metadata": {
        "id": "view-in-github",
        "colab_type": "text"
      },
      "source": [
        "<a href=\"https://colab.research.google.com/github/tofael202/Codility-Contest-and-Challenge/blob/main/CyclicRotation.ipynb\" target=\"_parent\"><img src=\"https://colab.research.google.com/assets/colab-badge.svg\" alt=\"Open In Colab\"/></a>"
      ]
    },
    {
      "cell_type": "markdown",
      "metadata": {
        "id": "w9KrIcLK8LjL"
      },
      "source": [
        "https://app.codility.com/demo/results/trainingHPAT82-5QB/"
      ]
    },
    {
      "cell_type": "code",
      "metadata": {
        "id": "oxeh6pIV8JG6"
      },
      "source": [
        "vector<int> solution(vector<int> &A, int K) {\n",
        "    // write your code in C++14 (g++ 6.2.0)\n",
        "    int len=A.size();\n",
        "    vector<int> b(len);\n",
        "    for (int i=0;i<len;i++){\n",
        "         int newadd=(i+(len+K))%len;\n",
        "         b[newadd]=A[i];\n",
        "    }\n",
        "    return b;\n",
        "}"
      ],
      "execution_count": null,
      "outputs": []
    },
    {
      "cell_type": "markdown",
      "metadata": {
        "id": "HVpLX3QG8KvZ"
      },
      "source": [
        ""
      ]
    }
  ]
}